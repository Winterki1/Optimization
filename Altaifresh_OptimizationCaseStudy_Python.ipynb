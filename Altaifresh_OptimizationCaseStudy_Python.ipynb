{
 "cells": [
  {
   "cell_type": "markdown",
   "id": "22989fb9",
   "metadata": {},
   "source": [
    "### Case Study: Altaifresh Limited\n",
    "\n",
    "##### Note: these data do not represent the actual data associated with the stores or brands mentioned in the case study. This case is for educational purposes only.\n",
    "\n",
    "Imagine you are the chief executive in charge of the Agricultural Economics branch of Altaifresh, China, and it is your team’s responsibility to conduct an annual analysis of various factors involved in crop production—such as cost, waste management, crop demand, etc. and to advise the Agriculture Operations team on which seedlings to purchase and cultivate this year. The objective is to minimise company costs while remaining compliant with emissions and waste guidelines and meeting projected land use and production requirements when the plants begin bearing fruit."
   ]
  },
  {
   "cell_type": "markdown",
   "id": "ec78a48e",
   "metadata": {},
   "source": [
    "\n",
    "|Features |Peppers |Tomatoes |Eggplant | Cucumbers |Coconuts |Bananas |Mangoes |Pineapples|Oranges|\n",
    "|:---|---|---|---|---|---|---|---|---|---|\n",
    "|Price (£/seedling)|2.20 |2.80 |1.79 |1.89 |4.10 |3.20 |3.25 |3.25|2.95|\n",
    "|Maintenance (hours/week/plant) |0.1 |0.1 |0.12 |0.15 |0.13 |0.2 |0.14 |0.08|0.20|\n",
    "|Land use (square metres/plant) |0.6 |0.8 |1.3 |0.4 |3.8 |4 |3.9 |3.4|2.8|\n",
    "|Yield (kg/week/plant) |1.5 |2.0 |2.4 |1.2 |2.8 |3.1 |2.3 |4.0|2.9|\n",
    "|CO2/CH4 emissions risk level (50-100) |72 |81 |91 |78 |82 |87 |85 |72|78|\n",
    "|Time until fruit bearing (months) |3 |3.2 |2.9 |2.5 |40 |36 |34 |14|48|\n",
    "|Plant type: vegetable |1 |1 |1 |1 |0 |0 |0 |0 |0 |\n",
    "|Plant type: fruit |0 |0 |0 |0 |1 |1 |1 |1 |1 |\n",
    "|Projected waste (per cent of crop) |10 |15 |13 |27 |11 |14 |15 |12 |10 |"
   ]
  },
  {
   "cell_type": "markdown",
   "id": "25b0fec5",
   "metadata": {},
   "source": [
    "There are a number of seedlings available for your purchase from various suppliers. Each of them has differing attributes, such as price, projected yield (how much of the grown crop is sellable), maintenance time required (for activities like watering and fertilising), grow time, effect on emissions, land use and more. You have gathered this information and compiled the following table to use as the basis of your analysis. Please take a moment to look it over.\n",
    "\n",
    "There are important constraints that you will need to consider for determining which crops to purchase this year. They are drawn up in the following table:"
   ]
  },
  {
   "cell_type": "markdown",
   "id": "8f8481f8",
   "metadata": {},
   "source": [
    "|Constraints|Limits|\n",
    "|:---|---|\n",
    "|Plant requirements|\t300,000|\n",
    "|Labour (hours/week)|\t42,500|\n",
    "|Available land (square metres)|\t1,645,300|\n",
    "|Weekly storage capacity (kg)|\t645,200|\n",
    "|Emissions risk ceiling|\t80|\n",
    "|Minimum proportion fruit|\t55 per cent|\n",
    "|Waste ceiling|\t18 per cent|\n"
   ]
  },
  {
   "cell_type": "markdown",
   "id": "afb2387c",
   "metadata": {},
   "source": [
    "In order to qualify for a government subsidy given annually to larger-scale agricultural operations, you need to meet the minimum designation of 300,000 plants purchased. You also have a large corps of maintenance workers tasked with watering, fertilising and harvesting the crops and they provide, collectively, up to 42,500 hours of maintenance per week. You have 1,645,300 square meters of land at your disposal for planting, and a weekly, refrigerated storage capacity of 645,200 kg of fruits or vegetables (to house harvested crops before they are shipped to grocery stores). Based on projected demand, at least 55 per cent of the plants you purchase and cultivate must be fruits. Finally, you are subject to two environmental impact guidelines: your crops must be, on average, at or below an emissions risk index score of 80 (50-100 scale), and your average projected waste (the percentage of the crops you cultivate that go bad before they can be sold) must be at or below 18 per cent."
   ]
  },
  {
   "cell_type": "code",
   "execution_count": 1,
   "id": "30262ced",
   "metadata": {},
   "outputs": [],
   "source": [
    "import numpy as np\n",
    "from scipy.optimize import linprog\n",
    "import warnings\n",
    "warnings.filterwarnings(\"ignore\")"
   ]
  },
  {
   "cell_type": "code",
   "execution_count": 2,
   "id": "a91f7b37",
   "metadata": {},
   "outputs": [],
   "source": [
    "A = np.array([[-1.0,-1.0,-1.0,-1.0,-1.0,-1.0,-1.0,-1.0,-1.0],\n",
    "                [0.10,0.10,0.12,0.15,0.13,0.20,0.14,0.08,0.20],\n",
    "                [0.60,0.80,1.30,0.40,3.80,4.00,3.90,3.40,2.80],\n",
    "                [1.50,2.00,2.40,1.20,2.80,3.10,2.30,4.00,2.90],\n",
    "                [72.0,81.0,91.0,78.0,82.0,87.0,85.0,72.0,78.0],\n",
    "                [0.00,0.00,0.00,0.00,-1.0,-1.0,-1.0,-1.0,-1.0],\n",
    "                [0.10,0.15,0.13,0.27,0.11,0.14,0.15,0.12,0.10]])\n",
    "\n",
    "b = np.array([-300000,42500,1645300,645200,24000000,-165000,54000])\n",
    "\n",
    "c = np.array([2.20,2.80,1.79,1.89,4.10,3.20,3.25,3.25,2.95])\n",
    "\n",
    "plant_names = [\"Peppers\",\"Tomatoes\",\"Eggplant\",\"Cucumbers\",\"Coconuts\",\"Bananas\",\"Mangoes\",\"Pineapples\",\"Oranges\"]\n",
    "constraint_names = [\"Plants\",\"Labour\",\"Land\",\"Storage\",\"Emissions\",\"Fruit proportion\",\"Waste\"]"
   ]
  },
  {
   "cell_type": "code",
   "execution_count": 3,
   "id": "429ee3be",
   "metadata": {},
   "outputs": [],
   "source": [
    "sol = linprog(c,A_ub=A,b_ub=b,method=\"revised simplex\")"
   ]
  },
  {
   "cell_type": "code",
   "execution_count": 4,
   "id": "9f90d580",
   "metadata": {},
   "outputs": [
    {
     "name": "stdout",
     "output_type": "stream",
     "text": [
      "It is optimal to grow plants in the following quantities:\n",
      "\n",
      "Peppers: 11,509\n",
      "Tomatoes: 0\n",
      "Eggplant: 16,750\n",
      "Cucumbers: 106,740\n",
      "Coconuts: 0\n",
      "Bananas: 0\n",
      "Mangoes: 93,490\n",
      "Pineapples: 33,855\n",
      "Oranges: 37,655\n",
      "This will result in total cost of £781,996\n"
     ]
    }
   ],
   "source": [
    "if sol.success == True:\n",
    "    print(\"It is optimal to grow plants in the following quantities:\\n\")\n",
    "    for plant, quantity in zip(plant_names, sol.x):\n",
    "        print(f\"{plant}: {quantity:,.0f}\")\n",
    "    print(f\"This will result in total cost of £{sol.fun:,.0f}\");\n",
    "else:\n",
    "    print(\"No optimal solution found.\")"
   ]
  },
  {
   "cell_type": "code",
   "execution_count": 5,
   "id": "c25be916",
   "metadata": {},
   "outputs": [
    {
     "name": "stdout",
     "output_type": "stream",
     "text": [
      "The constraints have the following slack:\n",
      "\n",
      "Plants: 0\n",
      "Labour: 0\n",
      "Land: 988,771\n",
      "Storage: 0\n",
      "Emissions: 0\n",
      "Fruit proportion: 0\n",
      "Waste: 0\n"
     ]
    }
   ],
   "source": [
    "if sol.success == True:\n",
    "    print(\"The constraints have the following slack:\\n\")\n",
    "    for slack, amount in zip(constraint_names, sol.slack):\n",
    "        print(f\"{slack}: {amount:,.0f}\");"
   ]
  },
  {
   "cell_type": "markdown",
   "id": "79315221",
   "metadata": {},
   "source": [
    "An analysis from the finance team reveals that there is money in the budget to invest in an expansion of resources. The available amount can be used to hire an additional 10,000 hours per week of labour or to buy an additional weekly storage capacity of 50,000 kilograms. You are tasked with recommending to the senior leadership one of these expansion options. "
   ]
  },
  {
   "cell_type": "code",
   "execution_count": 6,
   "id": "d9e08d7b",
   "metadata": {},
   "outputs": [],
   "source": [
    "b_labour = np.array([-300000,52500,1645300,645200,24000000,-165000,54000])"
   ]
  },
  {
   "cell_type": "code",
   "execution_count": 7,
   "id": "c2ae587a",
   "metadata": {},
   "outputs": [],
   "source": [
    "sol1 = linprog(c,A_ub=A,b_ub=b_labour,method=\"revised simplex\")"
   ]
  },
  {
   "cell_type": "code",
   "execution_count": 8,
   "id": "afc1e9af",
   "metadata": {},
   "outputs": [
    {
     "name": "stdout",
     "output_type": "stream",
     "text": [
      "With the increased labour hours, it would be optimal to grow plants in the following quantities:\n",
      "\n",
      "Peppers: 0\n",
      "Tomatoes: 0\n",
      "Eggplant: 8,133\n",
      "Cucumbers: 126,867\n",
      "Coconuts: 0\n",
      "Bananas: 0\n",
      "Mangoes: 8,433\n",
      "Pineapples: 0\n",
      "Oranges: 156,567\n",
      "This will result in total cost of £743,617\n"
     ]
    }
   ],
   "source": [
    "if sol1.success == True:\n",
    "    print(\"With the increased labour hours, it would be optimal to grow plants in the following quantities:\\n\")\n",
    "    for plant, quantity in zip(plant_names, sol1.x):\n",
    "        print(f\"{plant}: {quantity:,.0f}\")\n",
    "    print(f\"This will result in total cost of £{sol1.fun:,.0f}\");\n",
    "else:\n",
    "    print(\"No optimal solution found.\")"
   ]
  },
  {
   "cell_type": "code",
   "execution_count": 9,
   "id": "acb95b27",
   "metadata": {},
   "outputs": [
    {
     "name": "stdout",
     "output_type": "stream",
     "text": [
      "With this revised setup, the constraints have the following slack:\n",
      "\n",
      "Plants: 0\n",
      "Labour: -0\n",
      "Land: 1,112,703\n",
      "Storage: -0\n",
      "Emissions: 435,233\n",
      "Fruit proportion: 0\n",
      "Waste: 1,767\n"
     ]
    }
   ],
   "source": [
    "if sol1.success == True:\n",
    "    print(\"With this revised setup, the constraints have the following slack:\\n\")\n",
    "    for slack, amount in zip(constraint_names, sol1.slack):\n",
    "        print(f\"{slack}: {amount:,.0f}\");"
   ]
  },
  {
   "cell_type": "code",
   "execution_count": 10,
   "id": "828c86c2",
   "metadata": {},
   "outputs": [],
   "source": [
    "b_storage = np.array([-300000,42500,1645300,695200,24000000,-165000,54000])"
   ]
  },
  {
   "cell_type": "code",
   "execution_count": 11,
   "id": "84cefb46",
   "metadata": {},
   "outputs": [],
   "source": [
    "sol2 = linprog(c,A_ub=A,b_ub=b_storage,method=\"revised simplex\")"
   ]
  },
  {
   "cell_type": "code",
   "execution_count": 12,
   "id": "49bd6f21",
   "metadata": {},
   "outputs": [
    {
     "name": "stdout",
     "output_type": "stream",
     "text": [
      "With the increased storage space, it would be optimal to grow plants in the following quantities:\n",
      "\n",
      "Peppers: 0\n",
      "Tomatoes: 0\n",
      "Eggplant: 33,547\n",
      "Cucumbers: 101,453\n",
      "Coconuts: 0\n",
      "Bananas: 0\n",
      "Mangoes: 65,107\n",
      "Pineapples: 48,643\n",
      "Oranges: 51,250\n",
      "This will result in total cost of £772,670\n"
     ]
    }
   ],
   "source": [
    "if sol1.success == True:\n",
    "    print(\"With the increased storage space, it would be optimal to grow plants in the following quantities:\\n\")\n",
    "    for plant, quantity in zip(plant_names, sol2.x):\n",
    "        print(f\"{plant}: {quantity:,.0f}\")\n",
    "    print(f\"This will result in total cost of £{sol2.fun:,.0f}\");\n",
    "else:\n",
    "    print(\"No optimal solution found.\")"
   ]
  },
  {
   "cell_type": "code",
   "execution_count": 13,
   "id": "849f7369",
   "metadata": {},
   "outputs": [
    {
     "name": "stdout",
     "output_type": "stream",
     "text": [
      "With this revised setup, the constraints have the following slack:\n",
      "\n",
      "Plants: 0\n",
      "Labour: 0\n",
      "Land: 998,304\n",
      "Storage: 0\n",
      "Emissions: 0\n",
      "Fruit proportion: 0\n",
      "Waste: 1,518\n"
     ]
    }
   ],
   "source": [
    "if sol2.success == True:\n",
    "    print(\"With this revised setup, the constraints have the following slack:\\n\")\n",
    "    for slack, amount in zip(constraint_names, sol2.slack):\n",
    "        print(f\"{slack}: {amount:,.0f}\");"
   ]
  },
  {
   "cell_type": "markdown",
   "id": "e3900952",
   "metadata": {},
   "source": [
    "Consequently, it is preferable to hire the additional labour hours (provided that the ongoing cost of these does not exceed the purchase cost savings): not only does it result in greater cost savings, it also reduces emissions and waste."
   ]
  },
  {
   "cell_type": "code",
   "execution_count": null,
   "id": "f086d48e",
   "metadata": {},
   "outputs": [],
   "source": []
  }
 ],
 "metadata": {
  "kernelspec": {
   "display_name": "Python 3 (ipykernel)",
   "language": "python",
   "name": "python3"
  },
  "language_info": {
   "codemirror_mode": {
    "name": "ipython",
    "version": 3
   },
   "file_extension": ".py",
   "mimetype": "text/x-python",
   "name": "python",
   "nbconvert_exporter": "python",
   "pygments_lexer": "ipython3",
   "version": "3.9.13"
  }
 },
 "nbformat": 4,
 "nbformat_minor": 5
}
